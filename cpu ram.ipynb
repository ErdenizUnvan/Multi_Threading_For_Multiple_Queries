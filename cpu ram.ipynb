{
 "cells": [
  {
   "cell_type": "code",
   "execution_count": 1,
   "id": "4ecddbf9",
   "metadata": {},
   "outputs": [
    {
     "name": "stdout",
     "output_type": "stream",
     "text": [
      "İşlemci Kullanımı: 1.8%\n",
      "Toplam Bellek: 65259.10 MB\n",
      "Kullanılabilir Bellek: 44684.36 MB\n",
      "Bellek Kullanımı: 31.5%\n",
      "İşlemci Kullanımı: 1.2%\n",
      "Toplam Bellek: 65259.10 MB\n",
      "Kullanılabilir Bellek: 44673.90 MB\n",
      "Bellek Kullanımı: 31.5%\n",
      "İşlemci Kullanımı: 1.4%\n",
      "Toplam Bellek: 65259.10 MB\n",
      "Kullanılabilir Bellek: 44653.95 MB\n",
      "Bellek Kullanımı: 31.6%\n",
      "İşlemci Kullanımı: 6.9%\n",
      "Toplam Bellek: 65259.10 MB\n",
      "Kullanılabilir Bellek: 44626.53 MB\n",
      "Bellek Kullanımı: 31.6%\n",
      "İşlemci Kullanımı: 1.8%\n",
      "Toplam Bellek: 65259.10 MB\n",
      "Kullanılabilir Bellek: 44587.36 MB\n",
      "Bellek Kullanımı: 31.7%\n",
      "İşlemci Kullanımı: 1.7%\n",
      "Toplam Bellek: 65259.10 MB\n",
      "Kullanılabilir Bellek: 44616.78 MB\n",
      "Bellek Kullanımı: 31.6%\n"
     ]
    },
    {
     "ename": "KeyboardInterrupt",
     "evalue": "",
     "output_type": "error",
     "traceback": [
      "\u001b[1;31m---------------------------------------------------------------------------\u001b[0m",
      "\u001b[1;31mKeyboardInterrupt\u001b[0m                         Traceback (most recent call last)",
      "Cell \u001b[1;32mIn[1], line 25\u001b[0m\n\u001b[0;32m     23\u001b[0m \u001b[38;5;28;01mif\u001b[39;00m \u001b[38;5;18m__name__\u001b[39m \u001b[38;5;241m==\u001b[39m \u001b[38;5;124m\"\u001b[39m\u001b[38;5;124m__main__\u001b[39m\u001b[38;5;124m\"\u001b[39m:\n\u001b[0;32m     24\u001b[0m     interval \u001b[38;5;241m=\u001b[39m \u001b[38;5;241m5\u001b[39m  \u001b[38;5;66;03m# İzleme aralığı (saniye cinsinden)\u001b[39;00m\n\u001b[1;32m---> 25\u001b[0m     monitor_resources(interval)\n",
      "Cell \u001b[1;32mIn[1], line 8\u001b[0m, in \u001b[0;36mmonitor_resources\u001b[1;34m(interval)\u001b[0m\n\u001b[0;32m      5\u001b[0m \u001b[38;5;28;01mdef\u001b[39;00m \u001b[38;5;21mmonitor_resources\u001b[39m(interval):\n\u001b[0;32m      6\u001b[0m     \u001b[38;5;28;01mwhile\u001b[39;00m \u001b[38;5;28;01mTrue\u001b[39;00m:\n\u001b[0;32m      7\u001b[0m         \u001b[38;5;66;03m# İşlemci kullanımını al\u001b[39;00m\n\u001b[1;32m----> 8\u001b[0m         cpu_percent \u001b[38;5;241m=\u001b[39m psutil\u001b[38;5;241m.\u001b[39mcpu_percent(interval\u001b[38;5;241m=\u001b[39minterval)\n\u001b[0;32m      9\u001b[0m         \u001b[38;5;28mprint\u001b[39m(\u001b[38;5;124mf\u001b[39m\u001b[38;5;124m\"\u001b[39m\u001b[38;5;124mİşlemci Kullanımı: \u001b[39m\u001b[38;5;132;01m{\u001b[39;00mcpu_percent\u001b[38;5;132;01m}\u001b[39;00m\u001b[38;5;124m%\u001b[39m\u001b[38;5;124m\"\u001b[39m)\n\u001b[0;32m     11\u001b[0m         \u001b[38;5;66;03m# Bellek kullanımını al\u001b[39;00m\n",
      "File \u001b[1;32m~\\anaconda3\\Lib\\site-packages\\psutil\\__init__.py:1747\u001b[0m, in \u001b[0;36mcpu_percent\u001b[1;34m(interval, percpu)\u001b[0m\n\u001b[0;32m   1745\u001b[0m \u001b[38;5;28;01mif\u001b[39;00m blocking:\n\u001b[0;32m   1746\u001b[0m     t1 \u001b[38;5;241m=\u001b[39m cpu_times()\n\u001b[1;32m-> 1747\u001b[0m     time\u001b[38;5;241m.\u001b[39msleep(interval)\n\u001b[0;32m   1748\u001b[0m \u001b[38;5;28;01melse\u001b[39;00m:\n\u001b[0;32m   1749\u001b[0m     t1 \u001b[38;5;241m=\u001b[39m _last_cpu_times\n",
      "\u001b[1;31mKeyboardInterrupt\u001b[0m: "
     ]
    }
   ],
   "source": [
    "import psutil\n",
    "import time\n",
    "\n",
    "# İşlemci ve bellek kullanımını belirli aralıklarla izlemek için fonksiyon\n",
    "def monitor_resources(interval):\n",
    "    while True:\n",
    "        # İşlemci kullanımını al\n",
    "        cpu_percent = psutil.cpu_percent(interval=interval)\n",
    "        print(f\"İşlemci Kullanımı: {cpu_percent}%\")\n",
    "\n",
    "        # Bellek kullanımını al\n",
    "        memory = psutil.virtual_memory()\n",
    "        total_memory = memory.total / (1024 * 1024)  # Byte cinsinden toplam bellek\n",
    "        available_memory = memory.available / (1024 * 1024)  # Byte cinsinden kullanılabilir bellek\n",
    "        memory_percent = memory.percent\n",
    "        print(f\"Toplam Bellek: {total_memory:.2f} MB\")\n",
    "        print(f\"Kullanılabilir Bellek: {available_memory:.2f} MB\")\n",
    "        print(f\"Bellek Kullanımı: {memory_percent}%\")\n",
    "\n",
    "        time.sleep(interval)\n",
    "\n",
    "# Ana program\n",
    "if __name__ == \"__main__\":\n",
    "    interval = 5  # İzleme aralığı (saniye cinsinden)\n",
    "    monitor_resources(interval)\n"
   ]
  },
  {
   "cell_type": "code",
   "execution_count": null,
   "id": "d8e147c1",
   "metadata": {},
   "outputs": [],
   "source": []
  }
 ],
 "metadata": {
  "kernelspec": {
   "display_name": "Python 3 (ipykernel)",
   "language": "python",
   "name": "python3"
  },
  "language_info": {
   "codemirror_mode": {
    "name": "ipython",
    "version": 3
   },
   "file_extension": ".py",
   "mimetype": "text/x-python",
   "name": "python",
   "nbconvert_exporter": "python",
   "pygments_lexer": "ipython3",
   "version": "3.11.3"
  }
 },
 "nbformat": 4,
 "nbformat_minor": 5
}
