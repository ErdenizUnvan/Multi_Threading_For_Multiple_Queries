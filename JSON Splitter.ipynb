{
 "cells": [
  {
   "cell_type": "code",
   "execution_count": 1,
   "id": "7d6d4e7d",
   "metadata": {},
   "outputs": [
    {
     "name": "stdout",
     "output_type": "stream",
     "text": [
      "Welcome to the JSON Splitter\n"
     ]
    },
    {
     "name": "stdin",
     "output_type": "stream",
     "text": [
      "Enter the filename:  contactlist2.json\n",
      "Enter maximum file size (MB):  30\n"
     ]
    },
    {
     "name": "stdout",
     "output_type": "stream",
     "text": [
      "File will be split into 12 parts\n",
      "Part 1 ... completed\n",
      "Part 2 ... completed\n",
      "Part 3 ... completed\n",
      "Part 4 ... completed\n",
      "Part 5 ... completed\n",
      "Part 6 ... completed\n",
      "Part 7 ... completed\n",
      "Part 8 ... completed\n",
      "Part 9 ... completed\n",
      "Part 10 ... completed\n",
      "Part 11 ... completed\n",
      "Part 12 ... completed\n",
      "Success! Script Completed\n"
     ]
    }
   ],
   "source": [
    "import sys\n",
    "import os\n",
    "import json\n",
    "\n",
    "\n",
    "print('Welcome to the JSON Splitter')\n",
    "\n",
    "while True:\n",
    "    try:\n",
    "        file_name = input('Enter the filename: ')\n",
    "        with open(file_name) as f:\n",
    "            data = json.load(f)\n",
    "            if not isinstance(data, list):\n",
    "                print(\"JSON is not an Array of Objects\")\n",
    "                break\n",
    "            else:\n",
    "                file_size = os.path.getsize(file_name)\n",
    "                mb_per_file = input('Enter maximum file size (MB): ')\n",
    "                flag=False\n",
    "                while not mb_per_file.isdigit():\n",
    "                    print('sayi yaz')\n",
    "                    mb_per_file = input('Enter maximum file size in MB or ESC to quit: ')\n",
    "                    if mb_per_file.lower()=='esc':\n",
    "                        print('quit')\n",
    "                        flag=True\n",
    "                        break\n",
    "                if flag:\n",
    "                    break\n",
    "                mb_per_file=int(mb_per_file)\n",
    "                max_size = mb_per_file * 1000000\n",
    "                if file_size < max_size:\n",
    "                    print('File smaller than split size, exiting')\n",
    "                    break\n",
    "                num_files = file_size // max_size\n",
    "                if file_size % max_size > 0:\n",
    "                    num_files += 1\n",
    "                print(f'File will be split into {num_files} parts')\n",
    "                part_size = len(data) // num_files\n",
    "                for i in range(num_files):\n",
    "                    start = i * part_size\n",
    "                    if i == num_files - 1:\n",
    "                        end = len(data)\n",
    "                    else:\n",
    "                        end = (i + 1) * part_size\n",
    "\n",
    "                    split_data = data[start:end]\n",
    "                    name = f\"{os.path.splitext(file_name)[0]}_{i + 1}.json\"\n",
    "                    with open(name, 'w') as outfile:\n",
    "                        outfile.write(json.dumps(split_data))\n",
    "                    print(f'Part {i + 1} ... completed')\n",
    "\n",
    "                print('Success! Script Completed')\n",
    "                break\n",
    "\n",
    "    except:\n",
    "        print('Error loading JSON file ... exiting')\n",
    "        break"
   ]
  },
  {
   "cell_type": "code",
   "execution_count": null,
   "id": "ebb5b2a9",
   "metadata": {},
   "outputs": [],
   "source": []
  }
 ],
 "metadata": {
  "kernelspec": {
   "display_name": "Python 3 (ipykernel)",
   "language": "python",
   "name": "python3"
  },
  "language_info": {
   "codemirror_mode": {
    "name": "ipython",
    "version": 3
   },
   "file_extension": ".py",
   "mimetype": "text/x-python",
   "name": "python",
   "nbconvert_exporter": "python",
   "pygments_lexer": "ipython3",
   "version": "3.8.8"
  }
 },
 "nbformat": 4,
 "nbformat_minor": 5
}
